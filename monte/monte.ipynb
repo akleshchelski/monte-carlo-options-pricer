{
 "cells": [
  {
   "cell_type": "code",
   "execution_count": null,
   "id": "5b0a56f0",
   "metadata": {
    "vscode": {
     "languageId": "plaintext"
    }
   },
   "outputs": [],
   "source": [
    "import numpy as np\n",
    "st = 100 #original stock price\n",
    "K = 100 #strike price\n",
    "r = .05 #risk-free interest rate\n",
    "CallOrPut = 'put'\n",
    "sigma = 0.2 #volatility\n",
    "T = 1 #time (let's call this \"one year\")\n",
    "number_of_steps = 252 #time steps per path (252 trading days per year)\n",
    "number_of_paths = 10 #total number of monte carlo paths we simulate\n",
    "dt = T / number_of_steps #takes T and splits into number of steps per path\n",
    "Z = np.random.randn(number_of_paths,number_of_steps) #makes empty matrix that is number_of_steps wide and number_of_paths long for computing each step value\n",
    "\n",
    "#GBM formula\n",
    "ManiupulatingEachZ = (r - (0.5)*(sigma**2))*dt + sigma*(np.sqrt(dt)*Z) #broadcasts each operation to every Z in the matrix\n",
    "SumOfEachRow = np.cumsum(ManiupulatingEachZ, axis = 1) #sums each row in the matrix\n",
    "ActualReturn = st * np.exp(SumOfEachRow) #multiplies stock price for actual return of each path (can be found in the last column of each row)\n",
    "\n",
    "listOfAllActualReturns = [:,-1] #goes down the last column of the matrix and stores in array\n",
    "if CallOrPut == 'put':\n",
    "    payoff = np.maximum(k-listOfAllActualReturns,0) #calculates payoff if put option\n",
    "else:\n",
    "    payoff = np.maximum(listOfAllActualReturns-k,0) #calculates payoff if call option\n",
    "\n",
    "price = np.exp(-r*T) * np.mean(payoff)\n",
    "print(f\"European {CallOrPut} option price: {price:.4f}\") "
   ]
  }
 ],
 "metadata": {
  "language_info": {
   "name": "python"
  }
 },
 "nbformat": 4,
 "nbformat_minor": 5
}
